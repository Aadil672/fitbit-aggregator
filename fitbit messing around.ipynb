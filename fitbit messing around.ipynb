{
 "cells": [
  {
   "cell_type": "code",
   "execution_count": 11,
   "metadata": {
    "collapsed": true
   },
   "outputs": [],
   "source": [
    "from datetime import datetime\n",
    "import json\n",
    "import keyring\n",
    "import requests\n",
    "\n",
    "import fitbit\n",
    "import gather_keys_oauth2 as Oauth2\n",
    "import pandas as pd \n",
    "from pprint import pprint\n",
    "import matplotlib.pyplot as plt"
   ]
  },
  {
   "cell_type": "markdown",
   "metadata": {},
   "source": [
    "First we have to set up authorization for the FitBit API. These instructions show you how to set up Fitbit so that you can connect to their api. \n",
    "\n",
    "https://towardsdatascience.com/collect-your-own-fitbit-data-with-python-ff145fa10873\n",
    "\n",
    "At the moment, the first chunk of the code in this notebook is copied directly from this post.\n",
    "\n",
    "\n",
    "When the directions mention secrets and keys, you'll notice that the code has in this notebook has stored the key and secret using the keyring library. This library helps you manage your keys and IDs (so that if you share your code, you don't share your credentials!).\n",
    "\n",
    "Here's a great link on how/why to use the keyring library.\n",
    "\n",
    "https://alexwlchan.net/2016/11/you-should-use-keyring/\n",
    "\n",
    "One last thing to note is that while we import the fitbit library, we're really only using it for authentication. In other words, we stop following the instruction after step two. Why is this? The fitbit python library calls the fitbit api in units of one day. And the fitbit api limits a single user's calls to 150 per hour, which means that if we used this library, we'd be limited to grabbing only 5 months of data at a time. \n",
    "\n",
    "Instead, we're going to create some functions that interact directly with the fitbit API so that we can grab a range of days' worth of data at a time.\n",
    "\n",
    "To be clear, sometimes you might want to get a single day's worth of data (and there's some code that does exactly that at the bottom of this notebook, but for this analysis, I'm more interested in trends across days than within days.\n"
   ]
  },
  {
   "cell_type": "code",
   "execution_count": 2,
   "metadata": {},
   "outputs": [
    {
     "name": "stderr",
     "output_type": "stream",
     "text": [
      "[22/May/2018:00:41:52] ENGINE Listening for SIGTERM.\n",
      "[22/May/2018:00:41:52] ENGINE Bus STARTING\n",
      "CherryPy Checker:\n",
      "The Application mounted at '' has an empty config.\n",
      "\n",
      "[22/May/2018:00:41:52] ENGINE Set handler for console events.\n",
      "[22/May/2018:00:41:52] ENGINE Started monitor thread 'Autoreloader'.\n",
      "[22/May/2018:00:41:52] ENGINE Serving on http://127.0.0.1:8080\n",
      "[22/May/2018:00:41:52] ENGINE Bus STARTED\n"
     ]
    },
    {
     "name": "stdout",
     "output_type": "stream",
     "text": [
      "127.0.0.1 - - [22/May/2018:00:41:57] \"GET /?code=5cc62e57278d42c1c0a3d38dd2d8aabd5df8bc4a&state=CppK4unDLk7twHSLkbGhfKxeupFevH HTTP/1.1\" 200 122 \"\" \"Mozilla/5.0 (Windows NT 6.3; Win64; x64) AppleWebKit/537.36 (KHTML, like Gecko) Chrome/65.0.3325.181 Safari/537.36\"\n"
     ]
    },
    {
     "name": "stderr",
     "output_type": "stream",
     "text": [
      "[22/May/2018:00:41:58] ENGINE Bus STOPPING\n",
      "[22/May/2018:00:42:03] ENGINE HTTP Server cherrypy._cpwsgi_server.CPWSGIServer(('127.0.0.1', 8080)) shut down\n",
      "[22/May/2018:00:42:03] ENGINE Stopped thread 'Autoreloader'.\n",
      "[22/May/2018:00:42:03] ENGINE Removed handler for console events.\n",
      "[22/May/2018:00:42:03] ENGINE Bus STOPPED\n",
      "[22/May/2018:00:42:03] ENGINE Bus EXITING\n",
      "[22/May/2018:00:42:03] ENGINE Waiting for child threads to terminate...\n",
      "[22/May/2018:00:42:03] ENGINE Bus EXITED\n",
      "[22/May/2018:00:42:03] ENGINE Waiting for thread Thread-19.\n"
     ]
    }
   ],
   "source": [
    "CLIENT_ID = keyring.get_password(\"fitbit\", \"key\")\n",
    "CLIENT_SECRET = keyring.get_password(\"fitbit\", \"secret\")\n",
    "\n",
    "server = Oauth2.OAuth2Server(CLIENT_ID, CLIENT_SECRET)\n",
    "server.browser_authorize()\n",
    "ACCESS_TOKEN = str(server.fitbit.client.session.token['access_token'])\n",
    "REFRESH_TOKEN = str(server.fitbit.client.session.token['refresh_token'])\n",
    "auth2_client = fitbit.Fitbit(CLIENT_ID, CLIENT_SECRET, oauth2=True, access_token=ACCESS_TOKEN, refresh_token=REFRESH_TOKEN)"
   ]
  },
  {
   "cell_type": "markdown",
   "metadata": {},
   "source": [
    "Now we're authorized to pull data from the Fitbit API. If you've never interacted with an api before, that won't keep you from moving forward with this analysis. Here's the only pieces of information you'll need to understand for this analysis:\n",
    "\n",
    "1. APIs are tools that entities to provide to allow your program to connect directly to their data. It's how we request data instead of using a UI interface. In Fitbit's case, the API provides more complete and detailed access to your data than is available in the UI download interface.\n",
    "\n",
    "2. APIs let you 'get', 'post', 'delete', and 'patch'(edit) data. We'll only 'get' data, using the python 'requests' library.\n",
    "\n",
    "3. Well-designed APIs use consistent URL formats to structure API calls. This takes the form of a URL. Getting, posting (etc.) data involves:\n",
    "    1. using the correct verb from the requests library (get, post, etc.)\n",
    "    2. structuring the text of the URL to meet the pattern that the API in question uses.\n",
    "\n",
    "\n",
    "Here's an example URL from the Fitbit api\n",
    " \"https://api.fitbit.com/1.2/user/-/sleep/date/2018-04-02/2018-04-08.json\"\n",
    " \n",
    "This breaks down into the following pattern:\n",
    "\n",
    "\"https://api.fitbit.com/1.2/user/-/\" + endpoint + \"/date/\" + start_date + \"/\" + end_date + \".json\"\n",
    "\n",
    "We'll use this to build a generic function that takes the endpoint name, start_date, and end_date."
   ]
  },
  {
   "cell_type": "code",
   "execution_count": 3,
   "metadata": {
    "collapsed": true
   },
   "outputs": [],
   "source": [
    "# getEndpointData is a generic function that lets us retrieve data from any fitbit api endpoint we want\n",
    "def getEndpointData(endpoint, start_date, end_date):\n",
    "    # At some point, we should insert some defensive coding here to make sure that the start_date and \n",
    "    # end_date are provided in the proper format (YYYY-MM-DD e.g. '2018-04-28'). For now, we'll \n",
    "    # leave it to the user to know the correct format\n",
    "    \n",
    "    url = \"https://api.fitbit.com/1.2/user/-/\" + endpoint + \"/date/\" + start_date + \"/\" + end_date + \".json\"\n",
    "    results = requests.get(url = url, headers={'Authorization':'Bearer ' + ACCESS_TOKEN})\n",
    "    if results.status_code == 200:\n",
    "        activity_data = json.loads(results.text)\n",
    "        return activity_data\n",
    "    else:\n",
    "        print(results.text)\n",
    "        return \"ERROR\"\n",
    "    "
   ]
  },
  {
   "cell_type": "markdown",
   "metadata": {},
   "source": [
    "Let's also build a function that makes our initial dates go backwards in time. This gives us an an easy way to loop back through all of the data we have stored in fitbit for a given endpoint."
   ]
  },
  {
   "cell_type": "code",
   "execution_count": 4,
   "metadata": {
    "collapsed": true
   },
   "outputs": [],
   "source": [
    "# right now this is set to assume we're pulling one month at a time. That's something \n",
    "# that it will probably make sense to change in the future.\n",
    "import datetime\n",
    "\n",
    "def makeDatesEarlier(start_date, end_date):\n",
    "    end_date = (datetime.datetime.strptime(end_date, \"%Y-%m-%d\") - datetime.timedelta(days=30)).strftime(\"%Y-%m-%d\")\n",
    "    start_date = (datetime.datetime.strptime(start_date, \"%Y-%m-%d\") - datetime.timedelta(days=30)).strftime(\"%Y-%m-%d\")\n",
    "    return start_date, end_date"
   ]
  },
  {
   "cell_type": "markdown",
   "metadata": {},
   "source": [
    "Now let's try this out with some sleep data!"
   ]
  },
  {
   "cell_type": "code",
   "execution_count": 5,
   "metadata": {
    "collapsed": true
   },
   "outputs": [],
   "source": [
    "endpoint = \"sleep\"\n",
    "\n",
    "end_date = \"2018-04-28\"\n",
    "start_date = \"2018-03-29\"\n",
    "\n",
    "activity_data = getEndpointData(endpoint, start_date, end_date)"
   ]
  },
  {
   "cell_type": "code",
   "execution_count": 6,
   "metadata": {
    "collapsed": true
   },
   "outputs": [],
   "source": [
    "def processSleepResults(activity_data, sleep_summaries, sleep_time_events_detail):\n",
    "\n",
    "    if not activity_data['sleep']:\n",
    "        # sleep endpoint no longer returns results\n",
    "        print(\"no more sleep data!\")\n",
    "        return sleep_summaries, sleep_time_events_detail, \"stop\"\n",
    "    else:\n",
    "        for sleep_event in activity_data['sleep']:\n",
    "            sleep_time_events_detail.append(sleep_event['levels']['data'])\n",
    "            del sleep_event['levels']['data']\n",
    "            try: \n",
    "                del sleep_event['levels']['shortData']\n",
    "            except:\n",
    "                pass\n",
    "                #this was a nap, so no shortData was available\n",
    "            sleep_summaries.append(sleep_event)\n",
    "    return sleep_summaries, sleep_time_events_detail, \"continue\""
   ]
  },
  {
   "cell_type": "code",
   "execution_count": 7,
   "metadata": {},
   "outputs": [
    {
     "name": "stdout",
     "output_type": "stream",
     "text": [
      "start date: 2018-03-21, end date: 2018-04-19\n",
      "start date: 2018-02-19, end date: 2018-03-20\n",
      "start date: 2018-01-20, end date: 2018-02-18\n",
      "start date: 2017-12-21, end date: 2018-01-19\n",
      "start date: 2017-11-21, end date: 2017-12-20\n",
      "start date: 2017-10-22, end date: 2017-11-20\n",
      "start date: 2017-09-22, end date: 2017-10-21\n",
      "start date: 2017-08-23, end date: 2017-09-21\n",
      "start date: 2017-07-24, end date: 2017-08-22\n",
      "start date: 2017-06-24, end date: 2017-07-23\n",
      "start date: 2017-05-25, end date: 2017-06-23\n",
      "start date: 2017-04-25, end date: 2017-05-24\n",
      "no more sleep data!\n",
      "start date: 2017-03-26, end date: 2017-04-24\n"
     ]
    }
   ],
   "source": [
    "sleep_time_events_detail = []\n",
    "sleep_summaries = []\n",
    "endpoint = \"sleep\"\n",
    "\n",
    "\n",
    "# start_date decrement month by 1, increment date by 1 \n",
    "end_date = \"2018-05-19\"\n",
    "start_date = \"2018-04-20\"\n",
    "    \n",
    "status = \"continue\"\n",
    "    \n",
    "while status == \"continue\":\n",
    "    activity_data = getEndpointData(endpoint, start_date, end_date)\n",
    "    if activity_data != \"ERROR\":\n",
    "        sleep_summaries, sleep_time_events_detail, status = processSleepResults(activity_data, sleep_summaries, sleep_time_events_detail)\n",
    "        start_date, end_date = makeDatesEarlier(start_date, end_date)\n",
    "        print(\"start date: {}, end date: {}\".format(start_date, end_date))\n",
    "    else:\n",
    "        break"
   ]
  },
  {
   "cell_type": "code",
   "execution_count": null,
   "metadata": {
    "collapsed": true
   },
   "outputs": [],
   "source": []
  },
  {
   "cell_type": "code",
   "execution_count": null,
   "metadata": {},
   "outputs": [],
   "source": [
    "pprint((sleep_summaries))"
   ]
  },
  {
   "cell_type": "code",
   "execution_count": 8,
   "metadata": {
    "collapsed": true
   },
   "outputs": [],
   "source": [
    "# collect date of end sleep time, which will always be the day after the activity time\n",
    "\n",
    "# for each sleep record, grab the 'endTime' and minutes_asleep, and deep_minutes - ['levels']['summary']['deep']['minutes']\n",
    "\n",
    "sleep_list = []\n",
    "\n",
    "#open question: naps?\n",
    "\n",
    "\n",
    "\n",
    "# make note later about disappointing 30-day-average bs\n",
    "\n",
    "for sleep_summary in sleep_summaries:\n",
    "    end_time = sleep_summary['endTime']\n",
    "    end_date, wakeup_time = end_time.split(\"T\")\n",
    "    #convert end_date to a date instead of string\n",
    "    end_date = datetime.datetime.strptime(end_date, \"%Y-%m-%d\")- datetime.timedelta(days=1)\n",
    "    minutes_asleep = sleep_summary['minutesAsleep']\n",
    "    sleep_efficiency = sleep_summary['efficiency']\n",
    "    try:\n",
    "        deep_minutes = sleep_summary['levels']['summary']['deep']['minutes']\n",
    "        deep_count = sleep_summary['levels']['summary']['deep']['count']\n",
    "        \n",
    "        light_minutes = sleep_summary['levels']['summary']['light']['minutes']\n",
    "        light_count = sleep_summary['levels']['summary']['light']['count']\n",
    "        \n",
    "        \n",
    "        rem_minutes = sleep_summary['levels']['summary']['rem']['minutes']\n",
    "        rem_count = sleep_summary['levels']['summary']['rem']['count']        \n",
    "        \n",
    "        wake_minutes = sleep_summary['levels']['summary']['wake']['minutes']\n",
    "        wake_count = sleep_summary['levels']['summary']['wake']['count']\n",
    "        \n",
    "        sleep_list.append({'end_date': end_date, 'wakeup_time': wakeup_time, 'minutes_asleep': minutes_asleep,\\\n",
    "                          'deep_minutes': deep_minutes, 'deep_count': deep_count, \\\n",
    "                           'light_minutes': light_minutes, 'light_count': light_count, \\\n",
    "                           'rem_minutes': rem_minutes, 'rem_count': rem_count, \\\n",
    "                           'wake_minutes': wake_minutes, 'wake_count': wake_count, \\\n",
    "                           'efficiency': sleep_efficiency\n",
    "                          \n",
    "                          })\n",
    "    except:\n",
    "        # we're skipping nap data\n",
    "        pass"
   ]
  },
  {
   "cell_type": "code",
   "execution_count": 9,
   "metadata": {},
   "outputs": [
    {
     "name": "stdout",
     "output_type": "stream",
     "text": [
      "     deep_count  deep_minutes  efficiency   end_date  light_count  \\\n",
      "0             3            68          95 2018-05-18           23   \n",
      "1             1            25         100 2018-05-17           27   \n",
      "2             2            45          93 2018-05-16           19   \n",
      "3             3            63          98 2018-05-15           26   \n",
      "4             5            88          98 2018-05-14           26   \n",
      "5             2            38          96 2018-05-13           23   \n",
      "6             2            39          97 2018-05-12           32   \n",
      "7             4            76          97 2018-05-11           24   \n",
      "8             4            60          95 2018-05-10           26   \n",
      "9             2            39          96 2018-05-09           14   \n",
      "10            3            29          96 2018-05-08           26   \n",
      "11            3            46          97 2018-05-07           17   \n",
      "12            5            53          97 2018-05-06           26   \n",
      "13            5            42          97 2018-05-05           32   \n",
      "14            4            56          97 2018-05-04           25   \n",
      "15            4            52          98 2018-05-03           34   \n",
      "16            4            78          99 2018-05-02           13   \n",
      "17            4            55          99 2018-05-01           26   \n",
      "18            6            54          97 2018-04-30           28   \n",
      "19            3            44          99 2018-04-29           20   \n",
      "20            3           101          97 2018-04-28           23   \n",
      "21            5            91          97 2018-04-27           30   \n",
      "22            5            27          97 2018-04-26           23   \n",
      "23            2            57          96 2018-04-25           15   \n",
      "24            3            38          98 2018-04-24           30   \n",
      "25            2            27          98 2018-04-23           19   \n",
      "26            1            57          95 2018-04-22           14   \n",
      "27            7            83          97 2018-04-21           29   \n",
      "28            2            51          98 2018-04-20           23   \n",
      "29            3            46          94 2018-04-19           12   \n",
      "..          ...           ...         ...        ...          ...   \n",
      "308           2            42          97 2017-07-09           22   \n",
      "309           1            74          99 2017-07-08           24   \n",
      "310           5            78          96 2017-07-07           36   \n",
      "311           3            40          98 2017-07-06           23   \n",
      "312           3            22          98 2017-07-05           32   \n",
      "313           5            53          99 2017-07-03           26   \n",
      "314           4            60          94 2017-07-02           24   \n",
      "315           4            41          95 2017-07-01           22   \n",
      "316           3            39          92 2017-06-30           19   \n",
      "317           2            44          96 2017-06-29           28   \n",
      "318           3            53          98 2017-06-28           33   \n",
      "319           2            60          98 2017-06-27           22   \n",
      "320           5            50          96 2017-06-26           27   \n",
      "321           3            24          97 2017-06-25           27   \n",
      "322           3            64          96 2017-06-24           24   \n",
      "323           4            64          98 2017-06-23           31   \n",
      "324           3            52          97 2017-06-22           25   \n",
      "325           5            62          97 2017-06-21           32   \n",
      "326           2            13          98 2017-06-20           25   \n",
      "327           3            68          98 2017-06-19           25   \n",
      "328           4            44          94 2017-06-18           20   \n",
      "329           2            42          98 2017-06-17           25   \n",
      "330           3            72          99 2017-06-16           22   \n",
      "331           4            53          98 2017-06-15           22   \n",
      "332           4            34          98 2017-06-14           22   \n",
      "333           1            37          98 2017-06-13           22   \n",
      "334           3            58          95 2017-06-12           27   \n",
      "335           4            53          98 2017-06-11           19   \n",
      "336           5            65          96 2017-06-10           24   \n",
      "337           4            58          98 2017-06-09           30   \n",
      "\n",
      "     light_minutes  minutes_asleep  rem_count  rem_minutes  wake_count  \\\n",
      "0              238             393          6           87          22   \n",
      "1              235             385          6          125          25   \n",
      "2              211             330          4           74          17   \n",
      "3              289             416          5           64          26   \n",
      "4              249             420          3           83          24   \n",
      "5              307             432          5           87          21   \n",
      "6              358             507         10          110          30   \n",
      "7              260             447          6          111          21   \n",
      "8              229             409         12          120          25   \n",
      "9              165             281          3           77          14   \n",
      "10             265             369          4           75          25   \n",
      "11             198             359          6          115          13   \n",
      "12             225             374          6           96          19   \n",
      "13             354             553          5          157          29   \n",
      "14             225             416          6          135          20   \n",
      "15             245             424          6          127          28   \n",
      "16             178             382          8          126          15   \n",
      "17             239             380          5           86          23   \n",
      "18             243             422          8          125          22   \n",
      "19             244             392          6          104          16   \n",
      "20             262             455         10           92          25   \n",
      "21             333             520          6           96          25   \n",
      "22             242             358          6           89          18   \n",
      "23             181             347          4          109          13   \n",
      "24             221             358          6           99          29   \n",
      "25             284             372          4           61          18   \n",
      "26             211             381          7          113          13   \n",
      "27             270             480         11          127          25   \n",
      "28             281             478          5          146          19   \n",
      "29             256             406          7          104          10   \n",
      "..             ...             ...        ...          ...         ...   \n",
      "308            176             312          6           94          22   \n",
      "309            214             409          8          121          23   \n",
      "310            274             500          5          148          31   \n",
      "311            222             380          5          118          19   \n",
      "312            286             399          7           91          31   \n",
      "313            240             394          9          101          25   \n",
      "314            210             375          5          105          19   \n",
      "315            206             318          5           71          18   \n",
      "316            308             428          6           81          17   \n",
      "317            259             383          6           80          28   \n",
      "318            263             400          6           84          28   \n",
      "319            219             382          4          103          18   \n",
      "320            246             414          7          118          21   \n",
      "321            289             355          4           42          26   \n",
      "322            322             515          9          129          24   \n",
      "323            239             400          4           97          25   \n",
      "324            248             414          5          114          22   \n",
      "325            237             417         14          118          36   \n",
      "326            273             387          8          101          26   \n",
      "327            251             418          5           99          23   \n",
      "328            259             370          4           67          18   \n",
      "329            270             436          8          124          22   \n",
      "330            213             372          4           87          18   \n",
      "331            224             383          7          106          19   \n",
      "332            249             415          4          132          19   \n",
      "333            225             349          5           87          17   \n",
      "334            225             374          4           91          27   \n",
      "335            189             341          5           99          16   \n",
      "336            248             397          6           84          22   \n",
      "337            258             509          8          193          24   \n",
      "\n",
      "     wake_minutes   wakeup_time  \n",
      "0              58  08:23:30.000  \n",
      "1              33  07:58:00.000  \n",
      "2              38  07:03:30.000  \n",
      "3              34  07:58:30.000  \n",
      "4              39  07:55:30.000  \n",
      "5              48  07:58:30.000  \n",
      "6              49  09:12:30.000  \n",
      "7              50  08:11:30.000  \n",
      "8              44  07:50:00.000  \n",
      "9              41  07:49:00.000  \n",
      "10             39  07:58:00.000  \n",
      "11             35  08:01:00.000  \n",
      "12             35  08:08:00.000  \n",
      "13             66  10:54:30.000  \n",
      "14             46  09:35:00.000  \n",
      "15             40  07:59:30.000  \n",
      "16             23  07:27:30.000  \n",
      "17             35  08:08:30.000  \n",
      "18             38  07:40:00.000  \n",
      "19             32  08:04:30.000  \n",
      "20             57  08:38:30.000  \n",
      "21             46  08:29:30.000  \n",
      "22             44  07:41:00.000  \n",
      "23             40  07:57:30.000  \n",
      "24             51  07:58:00.000  \n",
      "25             60  07:39:30.000  \n",
      "26             36  08:08:30.000  \n",
      "27             41  09:16:00.000  \n",
      "28             37  09:19:30.000  \n",
      "29             56  08:28:30.000  \n",
      "..            ...           ...  \n",
      "308            32  08:51:00.000  \n",
      "309            49  08:54:00.000  \n",
      "310            61  09:02:00.000  \n",
      "311            38  07:33:30.000  \n",
      "312            44  07:29:00.000  \n",
      "313            39  08:29:00.000  \n",
      "314            44  08:14:30.000  \n",
      "315            61  08:11:30.000  \n",
      "316           101  09:12:00.000  \n",
      "317            60  07:51:00.000  \n",
      "318            48  07:39:00.000  \n",
      "319            34  07:40:30.000  \n",
      "320            47  07:49:00.000  \n",
      "321            44  06:58:30.000  \n",
      "322            49  08:37:30.000  \n",
      "323            29  09:08:00.000  \n",
      "324            41  07:29:30.000  \n",
      "325            50  07:58:00.000  \n",
      "326            56  07:55:30.000  \n",
      "327            33  07:29:00.000  \n",
      "328            94  07:29:30.000  \n",
      "329            39  08:29:30.000  \n",
      "330            30  08:14:30.000  \n",
      "331            29  08:28:30.000  \n",
      "332            48  08:00:00.000  \n",
      "333            43  07:49:00.000  \n",
      "334            47  07:50:00.000  \n",
      "335            28  07:29:30.000  \n",
      "336            53  09:24:00.000  \n",
      "337            39  08:25:30.000  \n",
      "\n",
      "[338 rows x 12 columns]\n"
     ]
    }
   ],
   "source": [
    "sleep_df = pd.DataFrame(sleep_list)\n",
    "print(sleep_df)"
   ]
  },
  {
   "cell_type": "code",
   "execution_count": 12,
   "metadata": {},
   "outputs": [
    {
     "data": {
      "image/png": "[encoded data removed]",
      "text/plain": [
       "<matplotlib.figure.Figure at 0x5b24369898>"
      ]
     },
     "metadata": {},
     "output_type": "display_data"
    }
   ],
   "source": [
    "plt.hist(sleep_df['efficiency'])\n",
    "plt.show()"
   ]
  },
  {
   "cell_type": "code",
   "execution_count": 13,
   "metadata": {},
   "outputs": [
    {
     "data": {
      "image/png": "[encoded data removed]",
      "text/plain": [
       "<matplotlib.figure.Figure at 0x5b24df9240>"
      ]
     },
     "metadata": {},
     "output_type": "display_data"
    }
   ],
   "source": [
    "plt.hist(sleep_df['deep_minutes'])\n",
    "plt.show()"
   ]
  },
  {
   "cell_type": "code",
   "execution_count": 14,
   "metadata": {},
   "outputs": [
    {
     "data": {
      "image/png": "[encoded data removed]",
      "text/plain": [
       "<matplotlib.figure.Figure at 0x5b25097a20>"
      ]
     },
     "metadata": {},
     "output_type": "display_data"
    }
   ],
   "source": [
    "plt.hist(sleep_df['wake_count'])\n",
    "plt.show()"
   ]
  },
  {
   "cell_type": "code",
   "execution_count": 15,
   "metadata": {},
   "outputs": [
    {
     "data": {
      "text/html": [
       "<div>\n",
       "<style scoped>\n",
       "    .dataframe tbody tr th:only-of-type {\n",
       "        vertical-align: middle;\n",
       "    }\n",
       "\n",
       "    .dataframe tbody tr th {\n",
       "        vertical-align: top;\n",
       "    }\n",
       "\n",
       "    .dataframe thead th {\n",
       "        text-align: right;\n",
       "    }\n",
       "</style>\n",
       "<table border=\"1\" class=\"dataframe\">\n",
       "  <thead>\n",
       "    <tr style=\"text-align: right;\">\n",
       "      <th></th>\n",
       "      <th>deep_count</th>\n",
       "      <th>deep_minutes</th>\n",
       "      <th>efficiency</th>\n",
       "      <th>end_date</th>\n",
       "      <th>light_count</th>\n",
       "      <th>light_minutes</th>\n",
       "      <th>minutes_asleep</th>\n",
       "      <th>rem_count</th>\n",
       "      <th>rem_minutes</th>\n",
       "      <th>wake_count</th>\n",
       "      <th>wake_minutes</th>\n",
       "      <th>wakeup_time</th>\n",
       "    </tr>\n",
       "  </thead>\n",
       "  <tbody>\n",
       "    <tr>\n",
       "      <th>60</th>\n",
       "      <td>4</td>\n",
       "      <td>68</td>\n",
       "      <td>91</td>\n",
       "      <td>2018-03-19</td>\n",
       "      <td>25</td>\n",
       "      <td>243</td>\n",
       "      <td>424</td>\n",
       "      <td>7</td>\n",
       "      <td>113</td>\n",
       "      <td>23</td>\n",
       "      <td>49</td>\n",
       "      <td>07:01:30.000</td>\n",
       "    </tr>\n",
       "    <tr>\n",
       "      <th>115</th>\n",
       "      <td>3</td>\n",
       "      <td>30</td>\n",
       "      <td>89</td>\n",
       "      <td>2018-01-23</td>\n",
       "      <td>19</td>\n",
       "      <td>283</td>\n",
       "      <td>382</td>\n",
       "      <td>5</td>\n",
       "      <td>69</td>\n",
       "      <td>16</td>\n",
       "      <td>74</td>\n",
       "      <td>06:53:00.000</td>\n",
       "    </tr>\n",
       "    <tr>\n",
       "      <th>140</th>\n",
       "      <td>1</td>\n",
       "      <td>44</td>\n",
       "      <td>90</td>\n",
       "      <td>2017-12-29</td>\n",
       "      <td>14</td>\n",
       "      <td>267</td>\n",
       "      <td>386</td>\n",
       "      <td>3</td>\n",
       "      <td>75</td>\n",
       "      <td>13</td>\n",
       "      <td>85</td>\n",
       "      <td>09:46:30.000</td>\n",
       "    </tr>\n",
       "  </tbody>\n",
       "</table>\n",
       "</div>"
      ],
      "text/plain": [
       "     deep_count  deep_minutes  efficiency   end_date  light_count  \\\n",
       "60            4            68          91 2018-03-19           25   \n",
       "115           3            30          89 2018-01-23           19   \n",
       "140           1            44          90 2017-12-29           14   \n",
       "\n",
       "     light_minutes  minutes_asleep  rem_count  rem_minutes  wake_count  \\\n",
       "60             243             424          7          113          23   \n",
       "115            283             382          5           69          16   \n",
       "140            267             386          3           75          13   \n",
       "\n",
       "     wake_minutes   wakeup_time  \n",
       "60             49  07:01:30.000  \n",
       "115            74  06:53:00.000  \n",
       "140            85  09:46:30.000  "
      ]
     },
     "execution_count": 15,
     "metadata": {},
     "output_type": "execute_result"
    }
   ],
   "source": [
    "sleep_df[sleep_df['efficiency'] < 92]"
   ]
  },
  {
   "cell_type": "code",
   "execution_count": 16,
   "metadata": {},
   "outputs": [
    {
     "data": {
      "image/png": "[encoded data removed]",
      "text/plain": [
       "<matplotlib.figure.Figure at 0x5b25234780>"
      ]
     },
     "metadata": {},
     "output_type": "display_data"
    }
   ],
   "source": [
    "plt.hist(sleep_df['wake_minutes'])\n",
    "plt.show()"
   ]
  },
  {
   "cell_type": "markdown",
   "metadata": {
    "collapsed": true
   },
   "source": [
    "Our question: How is sleep impacted by activity level?\n",
    "\n",
    "veryActiveMinutes and fairlyActiveMinutes is how we're measuring activity level\n",
    "\n",
    "Do I have more deep sleep the more I am very and fairly active"
   ]
  },
  {
   "cell_type": "code",
   "execution_count": null,
   "metadata": {
    "collapsed": true
   },
   "outputs": [],
   "source": []
  },
  {
   "cell_type": "code",
   "execution_count": 17,
   "metadata": {
    "collapsed": true
   },
   "outputs": [],
   "source": [
    "def convertActiveMinuteData(data, endpoint):\n",
    "    data_list = []\n",
    "    \n",
    "    endpoint = endpoint.replace(r\"/\", \"-\")\n",
    "    column_name = endpoint.split(\"-\")[1]\n",
    "    for line in data[endpoint]:\n",
    "        data_list.append({'end_date': datetime.datetime.strptime(line['dateTime'], \"%Y-%m-%d\"), column_name: int(line['value'])})\n",
    "    df = pd.DataFrame(data_list)\n",
    "    return df"
   ]
  },
  {
   "cell_type": "code",
   "execution_count": 18,
   "metadata": {
    "collapsed": true
   },
   "outputs": [],
   "source": [
    "# list of activities endpoints for reference\n",
    "\n",
    "endpoints = [\"activities/calories\", \"activities/caloriesBMR\", \"activities/steps\", \"activities/distance\", \n",
    "             \"activities/floors\", \"activities/elevation\", \"activities/minutesSedentary\", \n",
    "             \"activities/minutesLightlyActive\", \"activities/minutesFairlyActive\", \"activities/minutesVeryActive\",\n",
    "            \"activities/activityCalories\"]\n",
    "\n"
   ]
  },
  {
   "cell_type": "code",
   "execution_count": 20,
   "metadata": {},
   "outputs": [],
   "source": [
    "import datetime\n",
    "\n",
    "start_date = '2017-06-10' \n",
    "end_date = '2018-05-19'\n",
    "\n",
    "\n",
    "\n",
    "endpoint = \"activities/minutesVeryActive\"\n",
    "\n",
    "# first grab veryActiveMinutes\n",
    "veryActiveData = getEndpointData(endpoint, start_date, end_date)\n",
    "\n",
    "# grab date and minutes from veryActiveMinutes\n",
    "veryActiveList = convertActiveMinuteData(veryActiveData, endpoint)\n",
    "\n",
    "# then grab fairlyActiveMinutes\n",
    "endpoint = \"activities/minutesFairlyActive\"\n",
    "fairlyActiveData = getEndpointData(endpoint, start_date, end_date)\n",
    "\n",
    "#grab date and minutes from fairlyActiveMinutes\n",
    "fairlyActiveList = convertActiveMinuteData(fairlyActiveData, endpoint)\n",
    "\n",
    "\n",
    "endpoint = \"activities/minutesSedentary\"\n",
    "sedentaryActiveData = getEndpointData(endpoint, start_date, end_date)\n",
    "\n",
    "#grab date and minutes from fairlyActiveMinutes\n",
    "sedentaryActiveList = convertActiveMinuteData(sedentaryActiveData, endpoint)\n",
    "\n",
    "\n",
    "\n",
    "endpoint = \"activities/minutesLightlyActive\"\n",
    "lightlyActiveData = getEndpointData(endpoint, start_date, end_date)\n",
    "\n",
    "#grab date and minutes from fairlyActiveMinutes\n",
    "lightlyActiveList = convertActiveMinuteData(lightlyActiveData, endpoint)"
   ]
  },
  {
   "cell_type": "code",
   "execution_count": 21,
   "metadata": {
    "collapsed": true
   },
   "outputs": [],
   "source": [
    "# activity score. \n",
    "# dailyminutes (1440) = sedentaryMinutes + all active minutes\n",
    "\n",
    "# of the waking time, how much was active, and how much was sedentary?\n",
    "\n",
    "# use average number of asleep minutes - 407 to subtract from sedentaryMinutes and dailyMinutes\n",
    "\n",
    "# what percentage of time was I active (out of awake minutes)?\n",
    "# all_active_minutes / (1440-407)\n",
    "\n",
    "# all_active_minutes / 1033\n",
    "\n",
    "def calculatePercent(input_list, target):\n",
    "    return target / sum(input_list) \n",
    "\n",
    "\n"
   ]
  },
  {
   "cell_type": "code",
   "execution_count": 22,
   "metadata": {},
   "outputs": [
    {
     "name": "stdout",
     "output_type": "stream",
     "text": [
      "      end_date  minutesVeryActive  minutesFairlyActive  minutesSedentary  \\\n",
      "0   2017-06-10                 45                   28               671   \n",
      "1   2017-06-11                 49                   17               837   \n",
      "2   2017-06-12                 27                   26               873   \n",
      "3   2017-06-13                 21                   33               807   \n",
      "4   2017-06-14                 46                   36               841   \n",
      "5   2017-06-15                 67                   43               780   \n",
      "6   2017-06-16                 45                   46               699   \n",
      "7   2017-06-17                  0                    0               757   \n",
      "8   2017-06-18                  2                    9               728   \n",
      "9   2017-06-19                 56                    7               797   \n",
      "10  2017-06-20                  9                   53               782   \n",
      "11  2017-06-21                 42                   24               806   \n",
      "12  2017-06-22                  2                   65               721   \n",
      "13  2017-06-23                 35                   25               791   \n",
      "14  2017-06-24                 58                    7               825   \n",
      "15  2017-06-25                 52                   48               633   \n",
      "16  2017-06-26                 48                    2               845   \n",
      "17  2017-06-27                 44                   26               823   \n",
      "18  2017-06-28                 36                   52               836   \n",
      "19  2017-06-29                 18                   23               828   \n",
      "20  2017-06-30                 12                   22               774   \n",
      "21  2017-07-01                 59                   22               624   \n",
      "22  2017-07-02                 15                    7               823   \n",
      "23  2017-07-03                  4                    8               834   \n",
      "24  2017-07-05                 36                   42              1246   \n",
      "25  2017-07-06                  0                    0               851   \n",
      "26  2017-07-07                  0                    9               808   \n",
      "27  2017-07-08                 32                    5               710   \n",
      "28  2017-07-09                 53                   37               700   \n",
      "29  2017-07-10                  4                   11               811   \n",
      "..         ...                ...                  ...               ...   \n",
      "307 2018-04-19                 33                    8               835   \n",
      "308 2018-04-20                  7                   54               681   \n",
      "309 2018-04-21                 38                   28               710   \n",
      "310 2018-04-22                 41                   27               756   \n",
      "311 2018-04-23                 44                   38               819   \n",
      "312 2018-04-24                  7                   47               792   \n",
      "313 2018-04-25                  0                    0               779   \n",
      "314 2018-04-26                 16                   18               801   \n",
      "315 2018-04-27                 39                   12               857   \n",
      "316 2018-04-28                  0                    0               714   \n",
      "317 2018-04-29                 42                    2               817   \n",
      "318 2018-04-30                 18                   25               846   \n",
      "319 2018-05-01                 47                   15               770   \n",
      "320 2018-05-02                 44                   35               819   \n",
      "321 2018-05-03                  0                    0               940   \n",
      "322 2018-05-04                  6                    3               838   \n",
      "323 2018-05-05                 35                    6               823   \n",
      "324 2018-05-06                 60                   19               682   \n",
      "325 2018-05-07                 51                    3               793   \n",
      "326 2018-05-08                 24                   58               855   \n",
      "327 2018-05-09                 27                    1               786   \n",
      "328 2018-05-10                 50                   18               765   \n",
      "329 2018-05-11                 20                   21               751   \n",
      "330 2018-05-12                 31                    3               736   \n",
      "331 2018-05-13                 24                   38               656   \n",
      "332 2018-05-14                 30                   14               721   \n",
      "333 2018-05-15                 21                   35               772   \n",
      "334 2018-05-16                 37                   33               751   \n",
      "335 2018-05-17                  2                   21               819   \n",
      "336 2018-05-18                 22                   17               750   \n",
      "\n",
      "     minutesLightlyActive  deep_count  deep_minutes  efficiency  light_count  \\\n",
      "0                     148           5            65          96           24   \n",
      "1                      87           4            53          98           19   \n",
      "2                     145           3            58          95           27   \n",
      "3                     158           1            37          98           22   \n",
      "4                     125           4            34          98           22   \n",
      "5                      87           4            53          98           22   \n",
      "6                     238           3            72          99           22   \n",
      "7                     159           2            42          98           25   \n",
      "8                     226           4            44          94           20   \n",
      "9                     116           3            68          98           25   \n",
      "10                    145           2            13          98           25   \n",
      "11                    125           5            62          97           32   \n",
      "12                    185           3            52          97           25   \n",
      "13                    134           4            64          98           31   \n",
      "14                    121           3            64          96           24   \n",
      "15                    143           3            24          97           27   \n",
      "16                    146           5            50          96           27   \n",
      "17                     86           2            60          98           22   \n",
      "18                    100           3            53          98           33   \n",
      "19                    123           2            44          96           28   \n",
      "20                    121           3            39          92           19   \n",
      "21                    206           4            41          95           22   \n",
      "22                    216           4            60          94           24   \n",
      "23                    175           5            53          99           26   \n",
      "24                    116           3            22          98           32   \n",
      "25                    146           3            40          98           23   \n",
      "26                    205           5            78          96           36   \n",
      "27                    132           1            74          99           24   \n",
      "28                    192           2            42          97           22   \n",
      "29                    197           4            61          97           25   \n",
      "..                    ...         ...           ...         ...          ...   \n",
      "307                   156           3            46          94           12   \n",
      "308                   162           2            51          98           23   \n",
      "309                   149           7            83          97           29   \n",
      "310                    95           1            57          95           14   \n",
      "311                   122           2            27          98           19   \n",
      "312                   162           3            38          98           30   \n",
      "313                   252           2            57          96           15   \n",
      "314                   150           5            27          97           23   \n",
      "315                   130           5            91          97           30   \n",
      "316                   160           3           101          97           23   \n",
      "317                    67           3            44          99           20   \n",
      "318                   127           6            54          97           28   \n",
      "319                   148           4            55          99           26   \n",
      "320                   127           4            78          99           13   \n",
      "321                    95           4            52          98           34   \n",
      "322                   129           4            56          97           25   \n",
      "323                   114           5            42          97           32   \n",
      "324                    60           5            53          97           26   \n",
      "325                   184           3            46          97           17   \n",
      "326                   109           3            29          96           26   \n",
      "327                   218           2            39          96           14   \n",
      "328                   285           4            60          95           26   \n",
      "329                   195           4            76          97           24   \n",
      "330                   173           2            39          97           32   \n",
      "331                   166           2            38          96           23   \n",
      "332                   195           5            88          98           26   \n",
      "333                   153           3            63          98           26   \n",
      "334                   169           2            45          93           19   \n",
      "335                   230           1            25         100           27   \n",
      "336                   233           3            68          95           23   \n",
      "\n",
      "     light_minutes  minutes_asleep  rem_count  rem_minutes  wake_count  \\\n",
      "0              248             397          6           84          22   \n",
      "1              189             341          5           99          16   \n",
      "2              225             374          4           91          27   \n",
      "3              225             349          5           87          17   \n",
      "4              249             415          4          132          19   \n",
      "5              224             383          7          106          19   \n",
      "6              213             372          4           87          18   \n",
      "7              270             436          8          124          22   \n",
      "8              259             370          4           67          18   \n",
      "9              251             418          5           99          23   \n",
      "10             273             387          8          101          26   \n",
      "11             237             417         14          118          36   \n",
      "12             248             414          5          114          22   \n",
      "13             239             400          4           97          25   \n",
      "14             322             515          9          129          24   \n",
      "15             289             355          4           42          26   \n",
      "16             246             414          7          118          21   \n",
      "17             219             382          4          103          18   \n",
      "18             263             400          6           84          28   \n",
      "19             259             383          6           80          28   \n",
      "20             308             428          6           81          17   \n",
      "21             206             318          5           71          18   \n",
      "22             210             375          5          105          19   \n",
      "23             240             394          9          101          25   \n",
      "24             286             399          7           91          31   \n",
      "25             222             380          5          118          19   \n",
      "26             274             500          5          148          31   \n",
      "27             214             409          8          121          23   \n",
      "28             176             312          6           94          22   \n",
      "29             176             320          5           83          21   \n",
      "..             ...             ...        ...          ...         ...   \n",
      "307            256             406          7          104          10   \n",
      "308            281             478          5          146          19   \n",
      "309            270             480         11          127          25   \n",
      "310            211             381          7          113          13   \n",
      "311            284             372          4           61          18   \n",
      "312            221             358          6           99          29   \n",
      "313            181             347          4          109          13   \n",
      "314            242             358          6           89          18   \n",
      "315            333             520          6           96          25   \n",
      "316            262             455         10           92          25   \n",
      "317            244             392          6          104          16   \n",
      "318            243             422          8          125          22   \n",
      "319            239             380          5           86          23   \n",
      "320            178             382          8          126          15   \n",
      "321            245             424          6          127          28   \n",
      "322            225             416          6          135          20   \n",
      "323            354             553          5          157          29   \n",
      "324            225             374          6           96          19   \n",
      "325            198             359          6          115          13   \n",
      "326            265             369          4           75          25   \n",
      "327            165             281          3           77          14   \n",
      "328            229             409         12          120          25   \n",
      "329            260             447          6          111          21   \n",
      "330            358             507         10          110          30   \n",
      "331            307             432          5           87          21   \n",
      "332            249             420          3           83          24   \n",
      "333            289             416          5           64          26   \n",
      "334            211             330          4           74          17   \n",
      "335            235             385          6          125          25   \n",
      "336            238             393          6           87          22   \n",
      "\n",
      "     wake_minutes   wakeup_time  \n",
      "0              53  09:24:00.000  \n",
      "1              28  07:29:30.000  \n",
      "2              47  07:50:00.000  \n",
      "3              43  07:49:00.000  \n",
      "4              48  08:00:00.000  \n",
      "5              29  08:28:30.000  \n",
      "6              30  08:14:30.000  \n",
      "7              39  08:29:30.000  \n",
      "8              94  07:29:30.000  \n",
      "9              33  07:29:00.000  \n",
      "10             56  07:55:30.000  \n",
      "11             50  07:58:00.000  \n",
      "12             41  07:29:30.000  \n",
      "13             29  09:08:00.000  \n",
      "14             49  08:37:30.000  \n",
      "15             44  06:58:30.000  \n",
      "16             47  07:49:00.000  \n",
      "17             34  07:40:30.000  \n",
      "18             48  07:39:00.000  \n",
      "19             60  07:51:00.000  \n",
      "20            101  09:12:00.000  \n",
      "21             61  08:11:30.000  \n",
      "22             44  08:14:30.000  \n",
      "23             39  08:29:00.000  \n",
      "24             44  07:29:00.000  \n",
      "25             38  07:33:30.000  \n",
      "26             61  09:02:00.000  \n",
      "27             49  08:54:00.000  \n",
      "28             32  08:51:00.000  \n",
      "29             42  07:26:00.000  \n",
      "..            ...           ...  \n",
      "307            56  08:28:30.000  \n",
      "308            37  09:19:30.000  \n",
      "309            41  09:16:00.000  \n",
      "310            36  08:08:30.000  \n",
      "311            60  07:39:30.000  \n",
      "312            51  07:58:00.000  \n",
      "313            40  07:57:30.000  \n",
      "314            44  07:41:00.000  \n",
      "315            46  08:29:30.000  \n",
      "316            57  08:38:30.000  \n",
      "317            32  08:04:30.000  \n",
      "318            38  07:40:00.000  \n",
      "319            35  08:08:30.000  \n",
      "320            23  07:27:30.000  \n",
      "321            40  07:59:30.000  \n",
      "322            46  09:35:00.000  \n",
      "323            66  10:54:30.000  \n",
      "324            35  08:08:00.000  \n",
      "325            35  08:01:00.000  \n",
      "326            39  07:58:00.000  \n",
      "327            41  07:49:00.000  \n",
      "328            44  07:50:00.000  \n",
      "329            50  08:11:30.000  \n",
      "330            49  09:12:30.000  \n",
      "331            48  07:58:30.000  \n",
      "332            39  07:55:30.000  \n",
      "333            34  07:58:30.000  \n",
      "334            38  07:03:30.000  \n",
      "335            33  07:58:00.000  \n",
      "336            58  08:23:30.000  \n",
      "\n",
      "[337 rows x 16 columns]\n"
     ]
    }
   ],
   "source": [
    "activity_data = pd.merge(veryActiveList, fairlyActiveList, on='end_date')\n",
    "activity_data = pd.merge(activity_data, sedentaryActiveList, on='end_date')\n",
    "activity_data = pd.merge(activity_data, lightlyActiveList, on='end_date')\n",
    "activity_data = pd.merge(activity_data, sleep_df, on='end_date')\n",
    "\n",
    "activity_data = activity_data.fillna(0)\n",
    "\n",
    "print(activity_data)\n",
    "\n",
    "# Investigate data further using Tableau"
   ]
  },
  {
   "cell_type": "code",
   "execution_count": 23,
   "metadata": {},
   "outputs": [
    {
     "data": {
      "image/png": "[encoded data removed]",
      "text/plain": [
       "<matplotlib.figure.Figure at 0x5b20cc5b70>"
      ]
     },
     "metadata": {},
     "output_type": "display_data"
    }
   ],
   "source": [
    "# Trying to see if very_active_minutes taken as a percent of total active time are \n",
    "# able to predict deep sleep\n",
    "\n",
    "\n",
    "activity_data['very_active_percent'] = activity_data.apply(lambda x: calculatePercent([x['minutesLightlyActive'], x['minutesVeryActive'], x['minutesFairlyActive']], x['minutesVeryActive']), axis = 1)\n",
    "\n",
    "\n",
    "\n",
    "plt.scatter(activity_data['very_active_percent'], activity_data['deep_minutes'])\n",
    "plt.show()"
   ]
  },
  {
   "cell_type": "markdown",
   "metadata": {},
   "source": [
    "It would seem that very_active_minutes are not a good predictor of the number of deep sleep minutes.\n",
    "\n",
    "Do very active minutes decrease the number of waking events during the night?\n",
    "\n"
   ]
  },
  {
   "cell_type": "code",
   "execution_count": 24,
   "metadata": {},
   "outputs": [
    {
     "data": {
      "image/png": "[encoded data removed]",
      "text/plain": [
       "<matplotlib.figure.Figure at 0x5b20d1c470>"
      ]
     },
     "metadata": {},
     "output_type": "display_data"
    }
   ],
   "source": [
    "\n",
    "plt.scatter(activity_data['very_active_percent'], activity_data['wake_count'])\n",
    "plt.show()"
   ]
  },
  {
   "cell_type": "code",
   "execution_count": 27,
   "metadata": {},
   "outputs": [
    {
     "data": {
      "image/png": "[encoded data removed]",
      "text/plain": [
       "<matplotlib.figure.Figure at 0x5b257a73c8>"
      ]
     },
     "metadata": {},
     "output_type": "display_data"
    }
   ],
   "source": [
    "plt.scatter((activity_data['minutesVeryActive']+activity_data['minutesFairlyActive']),activity_data['deep_minutes']/activity_data['minutes_asleep'])\n",
    "plt.show()\n",
    "\n"
   ]
  },
  {
   "cell_type": "code",
   "execution_count": null,
   "metadata": {
    "collapsed": true
   },
   "outputs": [],
   "source": []
  },
  {
   "cell_type": "markdown",
   "metadata": {},
   "source": [
    "Below we have some code Melissa wrote to originally interact with the fitbit library (the one that runs into that 150 calls per hour limit.)  We're keeping the code here in case it's helpful as we're building out the other data sets."
   ]
  },
  {
   "cell_type": "code",
   "execution_count": null,
   "metadata": {
    "collapsed": true
   },
   "outputs": [],
   "source": [
    "#yesterday2 = str((datetime.now() - timedelta(days=1)).strftime(\"%Y-%m-%d\"))\n",
    "#today = str(datetime.now().strftime(\"%Y%m%d\"))\n",
    "\n",
    "#yesterday2 = ((datetime.now() - timedelta(days=1)))\n",
    "#yesterday3 = (yesterday2 - timedelta(days=1))\n",
    "#print(yesterday3)\n",
    "\n",
    "current_day = \"2018-05-18\"\n",
    "\n",
    "\n",
    "'''\n",
    "These functions use the intra-day endpoint. \n",
    "\n",
    "CAUTION: Plan your calls wisely, or you will exceed 150 API calls per hour.\n",
    "\n",
    "'''\n",
    "\n",
    "#take a starting date and a total number of days as an input\n",
    "# day needs to be in YYYY-MM-DD format\n",
    "def pullFitBitData(start_date, days, call_type):\n",
    "    #insert date error checking laterz\n",
    "    print(\"Processing day: {}\".format(start_date))\n",
    "    current_date = start_date\n",
    "    activity_df, heartRate_df = buildActivityData(current_date)\n",
    "    day_counter = 0\n",
    "    while day_counter < days:\n",
    "        current_date = (datetime.datetime.strptime(current_date, \"%Y-%m-%d\") - datetime.timedelta(days=1)).strftime(\"%Y-%m-%d\")\n",
    "        print(\"Processing day: {}\".format(current_date))\n",
    "        activity_df2, heartRate_df2 = buildActivityData(current_date)\n",
    "        activity_df = pd.concat([activity_df, activity_df2])\n",
    "        heartRate_df = pd.concat([heartRate_df, heartRate_df2])\n",
    "        day_counter += 1\n",
    "    print(\"Ended processing on {}.\".format(current_date))\n",
    "    return activity_df, heartRate_df\n",
    "        "
   ]
  },
  {
   "cell_type": "code",
   "execution_count": null,
   "metadata": {
    "collapsed": true
   },
   "outputs": [],
   "source": [
    "with open('sleep_time_events_detail.txt', 'w') as outfile:\n",
    "    json.dump(sleep_time_events_detail, outfile)"
   ]
  },
  {
   "cell_type": "code",
   "execution_count": null,
   "metadata": {
    "collapsed": true
   },
   "outputs": [],
   "source": [
    "fit_statsHR = auth2_client.intraday_time_series('activities/heart', base_date=current_day, detail_level='15min')\n",
    "heartRateZones = (fit_statsHR['activities-heart'][0]['value']['heartRateZones'])\n",
    "\n",
    "'''\n",
    "column_names = heartRatePivot_df.columns.values\n",
    "new_column_names = []\n",
    "for name in column_names:\n",
    "    new_name = name[1].replace(' ', '_')+'.'+name[0]\n",
    "    new_column_names.append(new_name)\n",
    "heartRatePivot_df.columns = new_column_names\n",
    "print(heartRatePivot_df)\n",
    "'''\n",
    "\n",
    "\n",
    "def accumulateHeartData(current_day, heartRateZones):\n",
    "    date_dict = {'date': [current_day, current_day, current_day, current_day]}\n",
    "    date_df = pd.DataFrame(date_dict)\n",
    "    \n",
    "    heartRateZones_df = pd.DataFrame.from_records(heartRateZones)\n",
    "    heartRateZones_df['date'] = date_df['date']\n",
    "    heartRatePivot_df = heartRateZones_df.pivot(index='date', columns='name')\n",
    "    column_names = heartRatePivot_df.columns.values\n",
    "    new_column_names = []\n",
    "    for name in column_names:\n",
    "        new_name = name[1].replace(' ', '_')+'.'+name[0]\n",
    "        new_column_names.append(new_name)\n",
    "    heartRatePivot_df.columns = new_column_names\n",
    "    return heartRatePivot_df\n",
    "\n",
    "def buildActivityData(current_date):\n",
    "    activity_stats = auth2_client.activities(date=current_date)\n",
    "    pprint(activity_stats)\n",
    "    activity_stats = activity_stats['summary']\n",
    "    heartRateZones = activity_stats['heartRateZones']\n",
    "    heartRate_df = accumulateHeartData(current_date, heartRateZones)\n",
    "    del activity_stats['distances']\n",
    "    del activity_stats['heartRateZones']\n",
    "    activity_df = pd.DataFrame(activity_stats, index=[current_date])\n",
    "    return activity_df, heartRate_df"
   ]
  },
  {
   "cell_type": "code",
   "execution_count": null,
   "metadata": {},
   "outputs": [],
   "source": [
    "activity_df, heartRate_df = buildActivityData(\"2018-05-18\")"
   ]
  },
  {
   "cell_type": "code",
   "execution_count": null,
   "metadata": {},
   "outputs": [],
   "source": [
    "print(activity_df)"
   ]
  },
  {
   "cell_type": "code",
   "execution_count": null,
   "metadata": {},
   "outputs": [],
   "source": [
    "print(heartRate_df)"
   ]
  },
  {
   "cell_type": "code",
   "execution_count": null,
   "metadata": {},
   "outputs": [],
   "source": [
    "fit_statsHR = auth2_client.intraday_time_series('activities/heart', base_date=current_day, detail_level='15min')\n",
    "pprint(fit_statsHR)"
   ]
  },
  {
   "cell_type": "code",
   "execution_count": null,
   "metadata": {
    "collapsed": true
   },
   "outputs": [],
   "source": []
  }
 ],
 "metadata": {
  "kernelspec": {
   "display_name": "Python [conda env:Anaconda3]",
   "language": "python",
   "name": "conda-env-Anaconda3-py"
  },
  "language_info": {
   "codemirror_mode": {
    "name": "ipython",
    "version": 3
   },
   "file_extension": ".py",
   "mimetype": "text/x-python",
   "name": "python",
   "nbconvert_exporter": "python",
   "pygments_lexer": "ipython3",
   "version": "3.6.3"
  }
 },
 "nbformat": 4,
 "nbformat_minor": 2
}
